{
  "nbformat": 4,
  "nbformat_minor": 0,
  "metadata": {
    "colab": {
      "provenance": [],
      "authorship_tag": "ABX9TyMnoIAPoKfeBRp2g+TabPGl"
    },
    "kernelspec": {
      "name": "python3",
      "display_name": "Python 3"
    },
    "language_info": {
      "name": "python"
    }
  },
  "cells": [
    {
      "cell_type": "code",
      "execution_count": null,
      "metadata": {
        "id": "bMdHXSd33S52"
      },
      "outputs": [],
      "source": [
        "import numpy as np\n",
        "import matplotlib.pyplot as plt\n",
        "\n",
        "# Time in hours (e.g., over 24 hours)\n",
        "t = np.linspace(0, 24, 200)\n",
        "\n",
        "# Simulated ocean surface temp (°C) with daily heating/cooling cycle\n",
        "ocean_temp = 20 + 3 * np.sin((t - 6) * np.pi / 12)\n",
        "\n",
        "# Material heat response functions (simplified thermal inertia simulation)\n",
        "def heat_response(material, k):\n",
        "    return ocean_temp + k * np.exp(-0.3 * t) * np.sin(t / 2)\n",
        "\n",
        "materials = {\n",
        "    'Aluminum': heat_response('aluminum', k=8),\n",
        "    'Carbon Composite': heat_response('carbon', k=5),\n",
        "    'Thermal Ceramic': heat_response('ceramic', k=2)\n",
        "}\n",
        "\n",
        "# Plotting\n",
        "plt.figure(figsize=(10, 6))\n",
        "plt.plot(t, ocean_temp, label='Ocean Surface Temp', color='navy', linewidth=2, linestyle='--')\n",
        "\n",
        "for mat, response in materials.items():\n",
        "    plt.plot(t, response, label=f'{mat} Surface Temp')\n",
        "\n",
        "plt.title('Thermal Material Response on Ocean Water')\n",
        "plt.xlabel('Time (hours)')\n",
        "plt.ylabel('Temperature (°C)')\n",
        "plt.grid(True, linestyle=':')\n",
        "plt.legend()\n",
        "plt.tight_layout()\n",
        "plt.show()"
      ]
    }
  ]
}